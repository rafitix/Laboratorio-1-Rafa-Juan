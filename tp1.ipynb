{
 "cells": [
  {
   "cell_type": "code",
   "execution_count": 17,
   "metadata": {},
   "outputs": [],
   "source": [
    "import pandas as pd\n",
    "import os\n",
    "import matplotlib.pyplot as plt"
   ]
  },
  {
   "cell_type": "code",
   "execution_count": 18,
   "metadata": {},
   "outputs": [
    {
     "ename": "IndexError",
     "evalue": "list index out of range",
     "output_type": "error",
     "traceback": [
      "\u001b[1;31m---------------------------------------------------------------------------\u001b[0m",
      "\u001b[1;31mIndexError\u001b[0m                                Traceback (most recent call last)",
      "Cell \u001b[1;32mIn[18], line 9\u001b[0m\n\u001b[0;32m      5\u001b[0m dataframes \u001b[38;5;241m=\u001b[39m {}\n\u001b[0;32m      8\u001b[0m \u001b[38;5;28;01mfor\u001b[39;00m archivo \u001b[38;5;129;01min\u001b[39;00m archivos:\n\u001b[1;32m----> 9\u001b[0m     mes \u001b[38;5;241m=\u001b[39m \u001b[43marchivo\u001b[49m\u001b[38;5;241;43m.\u001b[39;49m\u001b[43msplit\u001b[49m\u001b[43m(\u001b[49m\u001b[38;5;124;43m'\u001b[39;49m\u001b[38;5;124;43m_\u001b[39;49m\u001b[38;5;124;43m'\u001b[39;49m\u001b[43m)\u001b[49m\u001b[43m[\u001b[49m\u001b[38;5;241;43m3\u001b[39;49m\u001b[43m]\u001b[49m\u001b[38;5;241m.\u001b[39msplit(\u001b[38;5;124m'\u001b[39m\u001b[38;5;124m.\u001b[39m\u001b[38;5;124m'\u001b[39m)[\u001b[38;5;241m0\u001b[39m]\n\u001b[0;32m     10\u001b[0m     ruta_completa \u001b[38;5;241m=\u001b[39m os\u001b[38;5;241m.\u001b[39mpath\u001b[38;5;241m.\u001b[39mjoin(ruta_de_archivos,archivo)\n\u001b[0;32m     11\u001b[0m     df \u001b[38;5;241m=\u001b[39m pd\u001b[38;5;241m.\u001b[39mread_csv(ruta_completa)\n",
      "\u001b[1;31mIndexError\u001b[0m: list index out of range"
     ]
    }
   ],
   "source": [
    "ruta_de_archivos = r'C:\\Users\\rafae\\bigData\\Dataset_de_ventas'\n",
    "\n",
    "archivos = os.listdir(ruta_de_archivos)\n",
    "\n",
    "dataframes = {}\n",
    "\n",
    "\n",
    "for archivo in archivos:\n",
    "    mes = archivo.split('_')[3].split('.')[0]\n",
    "    ruta_completa = os.path.join(ruta_de_archivos,archivo)\n",
    "    df = pd.read_csv(ruta_completa)\n",
    "    df_ventas = df.copy()\n",
    "    \n",
    "    # Filtrado y Procesamiento de datos\n",
    "     \n",
    "    df_ventas['Cantidad Pedida'] = pd.to_numeric(df_ventas['Cantidad Pedida'], errors='coerce')\n",
    "    df_ventas['Precio Unitario'] = pd.to_numeric(df_ventas['Precio Unitario'], errors='coerce')\n",
    "    df_ventas['ID de Pedido'] = pd.to_numeric(df_ventas['ID de Pedido'], errors='coerce')\n",
    "    \n",
    "    df_ventas = df_ventas[~df_ventas['Cantidad Pedida'].isna()]\n",
    "    df_ventas = df_ventas[~df_ventas['Precio Unitario'].isna()]\n",
    "    df_ventas = df_ventas[~df_ventas['ID de Pedido'].isna()]\n",
    "    \n",
    "    df_ventas['Cantidad Pedida'] = df_ventas['Cantidad Pedida'].astype(int)\n",
    "    df_ventas['Precio Unitario'] = df_ventas['Precio Unitario'].astype(int)\n",
    "    df_ventas['ID de Pedido'] = df_ventas['ID de Pedido'].astype(int)\n",
    "    \n",
    "    dataframes[mes] = df_ventas\n"
   ]
  },
  {
   "cell_type": "code",
   "execution_count": 19,
   "metadata": {},
   "outputs": [],
   "source": [
    "def extraer_datos(datos):\n",
    "    datos['Fecha de Pedido']= pd.to_datetime(datos['Fecha de Pedido'], format='%d/%m/%Y')\n",
    "    datos['Hora'] = datos['Fecha de Pedido'].dt.hour\n",
    "    datos['Dia'] = datos['Fecha de Pedido'].dt.day\n",
    "    return datos  "
   ]
  },
  {
   "cell_type": "code",
   "execution_count": 21,
   "metadata": {},
   "outputs": [
    {
     "ename": "KeyError",
     "evalue": "'enero'",
     "output_type": "error",
     "traceback": [
      "\u001b[1;31m---------------------------------------------------------------------------\u001b[0m",
      "\u001b[1;31mKeyError\u001b[0m                                  Traceback (most recent call last)",
      "Cell \u001b[1;32mIn[21], line 5\u001b[0m\n\u001b[0;32m      2\u001b[0m totales_ventas \u001b[38;5;241m=\u001b[39m []\n\u001b[0;32m      4\u001b[0m \u001b[38;5;28;01mfor\u001b[39;00m mes \u001b[38;5;129;01min\u001b[39;00m meses:\n\u001b[1;32m----> 5\u001b[0m     dataframes_mes \u001b[38;5;241m=\u001b[39m \u001b[43mdataframes\u001b[49m\u001b[43m[\u001b[49m\u001b[43mmes\u001b[49m\u001b[43m]\u001b[49m\n\u001b[0;32m      6\u001b[0m     total_ventas_mes \u001b[38;5;241m=\u001b[39m dataframes_mes[dataframes_mes]\n\u001b[0;32m      7\u001b[0m     totales_ventas\u001b[38;5;241m.\u001b[39mappend(total_ventas_mes)\n",
      "\u001b[1;31mKeyError\u001b[0m: 'enero'"
     ]
    }
   ],
   "source": [
    "\n",
    "meses = ['enero', 'febrero', 'marzo', 'abril', 'mayo', 'junio', 'julio', 'agosto', 'septiembre', 'octubre', 'noviembre', 'diciembre']\n",
    "totales_ventas = []\n",
    "\n",
    "for mes in meses:\n",
    "    dataframes_mes = dataframes[mes]\n",
    "    total_ventas_mes = dataframes_mes[dataframes_mes]\n",
    "    totales_ventas.append(total_ventas_mes)\n",
    "\n",
    "    fig = go.Figure()\n",
    "\n",
    "\n",
    "fig.add_trace(go.Bar(\n",
    "    x = meses,\n",
    "    y = totales_ventas,\n",
    "    marker = dict(color=totales_ventas,colorscale= 'RdYlGn', colorbar=dict(title=\"Total de ventas\", x=1.0, thickness = 15)),\n",
    "    text = totales_ventas\n",
    "    \n",
    "    \n",
    "))\n",
    "fig.update_layout(\n",
    "    title = \"Total de ventas por mes\",\n",
    "    xaxis = dict(title='Mes'),\n",
    "    yaxis = dict(title='Total de Ventas'),\n",
    "    \n",
    ")\n",
    "\n",
    "\n",
    "fig.show()"
   ]
  }
 ],
 "metadata": {
  "kernelspec": {
   "display_name": "Python 3",
   "language": "python",
   "name": "python3"
  },
  "language_info": {
   "codemirror_mode": {
    "name": "ipython",
    "version": 3
   },
   "file_extension": ".py",
   "mimetype": "text/x-python",
   "name": "python",
   "nbconvert_exporter": "python",
   "pygments_lexer": "ipython3",
   "version": "3.12.5"
  }
 },
 "nbformat": 4,
 "nbformat_minor": 2
}
